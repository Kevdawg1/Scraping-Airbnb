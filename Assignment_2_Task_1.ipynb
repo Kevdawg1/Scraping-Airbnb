{
  "nbformat": 4,
  "nbformat_minor": 0,
  "metadata": {
    "colab": {
      "name": "Assignment 2 Task 1.ipynb",
      "provenance": [],
      "collapsed_sections": [],
      "include_colab_link": true
    },
    "kernelspec": {
      "name": "python3",
      "display_name": "Python 3"
    }
  },
  "cells": [
    {
      "cell_type": "markdown",
      "metadata": {
        "id": "view-in-github",
        "colab_type": "text"
      },
      "source": [
        "<a href=\"https://colab.research.google.com/github/Kevdawg1/Scraping-Airbnb/blob/master/Assignment_2_Task_1.ipynb\" target=\"_parent\"><img src=\"https://colab.research.google.com/assets/colab-badge.svg\" alt=\"Open In Colab\"/></a>"
      ]
    },
    {
      "cell_type": "code",
      "metadata": {
        "id": "OFQfxSNaPHPg",
        "colab_type": "code",
        "outputId": "2e66de00-e58c-4300-a7c3-f3d01e67239f",
        "colab": {
          "base_uri": "https://localhost:8080/",
          "height": 51
        }
      },
      "source": [
        "from google.colab import drive\n",
        "drive.mount('/content/drive')\n",
        "%cd /content/drive/My\\ Drive/Colab\\ Notebooks/COMP9418/assignment2/"
      ],
      "execution_count": 12,
      "outputs": [
        {
          "output_type": "stream",
          "text": [
            "Drive already mounted at /content/drive; to attempt to forcibly remount, call drive.mount(\"/content/drive\", force_remount=True).\n",
            "/content/drive/My Drive/Colab Notebooks/COMP9418/assignment2\n"
          ],
          "name": "stdout"
        }
      ]
    },
    {
      "cell_type": "code",
      "metadata": {
        "id": "t2SRy7iI_S7u",
        "colab_type": "code",
        "colab": {}
      },
      "source": [
        "from google.colab import files\n",
        "\n",
        "uploaded = files.upload()\n",
        "\n",
        "for fn in uploaded.keys():\n",
        "  print('User uploaded file \"{name}\" with length {length} bytes'.format(\n",
        "      name=fn, length=len(uploaded[fn])))"
      ],
      "execution_count": 0,
      "outputs": []
    },
    {
      "cell_type": "code",
      "metadata": {
        "id": "rSJdlVKSdzqb",
        "colab_type": "code",
        "colab": {}
      },
      "source": [
        "# Make division default to floating-point, saving confusion\n",
        "from __future__ import division\n",
        "from __future__ import print_function\n",
        "\n",
        "# Necessary libraries\n",
        "import numpy as np\n",
        "import pandas as pd\n",
        "\n",
        "# combinatorics\n",
        "from itertools import product, combinations\n",
        "# ordered dictionaries are useful for keeping ordered sets of varibles\n",
        "from collections import OrderedDict as odict\n",
        "\n",
        "# table formating for screen output\n",
        "from tabulate import tabulate\n",
        "\n",
        "# easier debugging display\n",
        "pd.set_option('display.multi_sparse', False)\n",
        "from pprint import pprint"
      ],
      "execution_count": 0,
      "outputs": []
    },
    {
      "cell_type": "code",
      "metadata": {
        "id": "qPxK1Wds9-PZ",
        "colab_type": "code",
        "colab": {}
      },
      "source": [
        "# https://www.cs.toronto.edu/~urtasun/courses/GraphicalModels/lecture9.pdf\n",
        "# Slide 24/25\n",
        "import re\n",
        "\n",
        "graph = {}\n",
        "\n",
        "outcomeSpace = {}\n",
        "\n",
        "# assumes that this node has not been created before\n",
        "def addNode(node, states, graph):\n",
        "\n",
        "    if node not in graph.keys():\n",
        "        graph[node] = []\n",
        "\n",
        "    # Map outcomeSpace of node\n",
        "    if node not in outcomeSpace.keys():\n",
        "        t = re.search('\\((.+?)\\)', states)\n",
        "        text_string = str(t.group(1)).strip()\n",
        "        text_string = text_string.replace('\"','')\n",
        "        all_states = text_string.split()\n",
        "        print(all_states)\n",
        "        space_list = []\n",
        "        i = 0\n",
        "\n",
        "        # Special case for binary states\n",
        "        if \"FALSE\" in all_states:\n",
        "            space_list.append(0)\n",
        "            all_states.remove(\"FALSE\")\n",
        "            i+=1\n",
        "        if \"TRUE\" in all_states:\n",
        "            space_list.append(1)\n",
        "            all_states.remove(\"TRUE\")\n",
        "            i+=1\n",
        "        \n",
        "        # All other cases\n",
        "        for state in all_states:\n",
        "            space_list.append(i)\n",
        "            i+=1\n",
        "        outcomeSpace[node] = space_list\n",
        "# USAGE:\n",
        "# node = \"HISTORY\" \n",
        "# states = 'states = ( \"TRUE\" \"FALSE\" );'\n",
        "# addNode(node, states, graph)\n",
        "        \n",
        "def addEdge(full_line, data, graph, prob_tables, outcomeSpace):\n",
        "    \n",
        "    text3 = ''.join(full_line)\n",
        "    t = re.search('\\((.+?)\\)', text3)\n",
        "\n",
        "    text_string = str(t.group(1))\n",
        "    text_array = text_string.split(\"|\")\n",
        "    parents  = text_array[0].split(\",\")\n",
        "    child = text_array[1]\n",
        "\n",
        "    for parent in parents:\n",
        "        if parent in graph.keys() and child in graph.keys() and child not in graph[parent]:\n",
        "            graph[parent].append(child)\n",
        "    prob_tables[child] = addProbTable(data, parents, child, outcomeSpace)\n",
        "\n",
        "def removeNode(node, graph):\n",
        "\n",
        "    # removes edges first\n",
        "    for el in graph:\n",
        "        if node in graph[el]:\n",
        "            graph[el].remove(node)\n",
        "\n",
        "    # removes node from graph\n",
        "    if node in graph.keys():\n",
        "        del graph[node]\n",
        "    return\n",
        "\n",
        "# USAGE:\n",
        "# removeNode('LVFAILURE', graph)\n",
        "# graph"
      ],
      "execution_count": 0,
      "outputs": []
    },
    {
      "cell_type": "code",
      "metadata": {
        "id": "tGr3oMptPt6W",
        "colab_type": "code",
        "colab": {}
      },
      "source": [
        "prob_tables = {}\n",
        "\n",
        "def printFactor(f):\n",
        "    \"\"\"\n",
        "    argument \n",
        "    `f`, a factor to print on screen\n",
        "    \"\"\"\n",
        "    # Create a empty list that we will fill in with the probability table entries\n",
        "    table = list()\n",
        "    \n",
        "    # Iterate over all keys and probability values in the table\n",
        "    for key, item in f['table'].items():\n",
        "        # Convert the tuple to a list to be able to manipulate it\n",
        "        k = list(key)\n",
        "        # Append the probability value to the list with key values\n",
        "        k.append(item)\n",
        "        # Append an entire row to the table\n",
        "        table.append(k)\n",
        "    # dom is used as table header. We need it converted to list\n",
        "    dom = list(f['dom'])\n",
        "    # Append a 'Pr' to indicate the probabity column\n",
        "    dom.append('Pr')\n",
        "    print(tabulate(table,headers=dom,tablefmt='orgtbl'))\n",
        "\n",
        "def addProbTable(input_string, parents, child, outcomeSpace):\n",
        "    # k = re.search('^\\((.+?)$\\)', input_string)\n",
        "    # print(k.group(1))\n",
        "\n",
        "    # very dirty way of extracting the probabilities\n",
        "    parts = re.split('=|;',input_string)\n",
        "    all_probs = parts[1].strip()[1:-1]\n",
        "    probs_parts = re.split('\\(|\\)',all_probs)\n",
        "    while(\"\" in probs_parts) : \n",
        "        probs_parts.remove(\"\") \n",
        "    # Result: list['0.4 0.1 0.5', '0.01 0.98 0.01']\n",
        "    # print(probs_parts)\n",
        "    for i in range(len(probs_parts)):\n",
        "        probs_parts[i] = probs_parts[i].split()\n",
        "    # Result: list[['0.4', '0.1', '0.5'], ['0.01', '0.98', '0.01']]\n",
        "    # print(probs_parts)\n",
        "    var_outcomes = outcomeSpace[child]\n",
        "    # print(var_outcomes)\n",
        "\n",
        "    parent_outcomes = [outcomeSpace[var] for var in (parents)]\n",
        "\n",
        "    # print(parent_outcomes)\n",
        "\n",
        "    all_parent_combinations = product(*parent_outcomes)\n",
        "    prob_table = odict()\n",
        "    for i, parent_combination in enumerate(all_parent_combinations):\n",
        "        # print(parent_combination)\n",
        "        cond_array = []\n",
        "        j = 0\n",
        "        for var_outcome in var_outcomes:\n",
        "            # print(tuple(list(parent_combination)+[var_outcome]))\n",
        "            # print(\"i:\", i ,\"j:\", j)\n",
        "            # print()\n",
        "            prob_table[tuple(list(parent_combination)+[var_outcome])] = probs_parts[j][i]\n",
        "            j+=1\n",
        "            \n",
        "    return {'dom': tuple(list(parents)+[child]), 'table': prob_table}\n",
        "\n",
        "# USAGE:\n",
        "# text4 = \"data = ((0.4 0.1 0.3 0.2)(0.01 0.96 0.01 0.02)) ;\"\n",
        "# parents = ['HISTORY','DEAD']\n",
        "# child = 'LVFAILURE'\n",
        "# addProbTable(text4, parents, child, outcomeSpace)"
      ],
      "execution_count": 0,
      "outputs": []
    },
    {
      "cell_type": "code",
      "metadata": {
        "id": "R01RUP4uAGKm",
        "colab_type": "code",
        "outputId": "43dad4cc-f634-4bd9-9ee0-61d9a739df1c",
        "colab": {
          "base_uri": "https://localhost:8080/",
          "height": 289
        }
      },
      "source": [
        "f = open(\"inputExample.net\", \"r\")\n",
        "input_lines = f.readlines()\n",
        "f.close()\n",
        "for i in range(len(input_lines)):\n",
        "    line = input_lines[i]\n",
        "    words = line.split(\" \")\n",
        "    if words[0] == \"node\":\n",
        "        print(\"Make new node\", words[1].strip(\"\\n\"))\n",
        "        addNode(words[1].strip(\"\\n\"),input_lines[i+2], graph)\n",
        "        i+=3\n",
        "    elif words[0] == \"potential\":\n",
        "        print(\"Make new CPT\", \"\".join(words[1:]))\n",
        "        addEdge(words[1:], input_lines[i+2], graph, prob_tables, outcomeSpace)\n",
        "        i+=3\n",
        "graph"
      ],
      "execution_count": 30,
      "outputs": [
        {
          "output_type": "stream",
          "text": [
            "Make new node HISTORY\n",
            "['TRUE', 'FALSE']\n",
            "Make new node LVFAILURE\n",
            "['TRUE', 'FALSE']\n",
            "Make new node DEAD\n",
            "['TRUE', 'FALSE']\n",
            "Make new node ALIVE\n",
            "['TRUE', 'FALSE']\n",
            "Make new CPT (HISTORY,DEAD|LVFAILURE)\n",
            "\n",
            "Make new CPT (LVFAILURE|ALIVE)\n",
            "\n"
          ],
          "name": "stdout"
        },
        {
          "output_type": "execute_result",
          "data": {
            "text/plain": [
              "{'ALIVE': [],\n",
              " 'DEAD': ['LVFAILURE'],\n",
              " 'HISTORY': ['LVFAILURE'],\n",
              " 'LVFAILURE': ['ALIVE']}"
            ]
          },
          "metadata": {
            "tags": []
          },
          "execution_count": 30
        }
      ]
    },
    {
      "cell_type": "code",
      "metadata": {
        "id": "F9PqmWUKjA0h",
        "colab_type": "code",
        "colab": {}
      },
      "source": [
        "outcomeSpace"
      ],
      "execution_count": 0,
      "outputs": []
    },
    {
      "cell_type": "code",
      "metadata": {
        "id": "PtaxBgymdPc7",
        "colab_type": "code",
        "outputId": "caeebe81-1f43-49eb-a160-1c444f788460",
        "colab": {
          "base_uri": "https://localhost:8080/",
          "height": 357
        }
      },
      "source": [
        "for elem in prob_tables:\n",
        "    print(elem)\n",
        "    print(printFactor(prob_tables[elem]))"
      ],
      "execution_count": 16,
      "outputs": [
        {
          "output_type": "stream",
          "text": [
            "LVFAILURE\n",
            "|   HISTORY |   DEAD |   LVFAILURE |   Pr |\n",
            "|-----------+--------+-------------+------|\n",
            "|         0 |      0 |           0 | 0.4  |\n",
            "|         0 |      0 |           1 | 0.01 |\n",
            "|         0 |      1 |           0 | 0.1  |\n",
            "|         0 |      1 |           1 | 0.96 |\n",
            "|         1 |      0 |           0 | 0.3  |\n",
            "|         1 |      0 |           1 | 0.01 |\n",
            "|         1 |      1 |           0 | 0.2  |\n",
            "|         1 |      1 |           1 | 0.02 |\n",
            "None\n",
            "ALIVE\n",
            "|   LVFAILURE |   ALIVE |   Pr |\n",
            "|-------------+---------+------|\n",
            "|           0 |       0 | 0.9  |\n",
            "|           0 |       1 | 0.01 |\n",
            "|           1 |       0 | 0.1  |\n",
            "|           1 |       1 | 0.99 |\n",
            "None\n"
          ],
          "name": "stdout"
        }
      ]
    },
    {
      "cell_type": "code",
      "metadata": {
        "id": "iJ-ZoGQ-buDU",
        "colab_type": "code",
        "colab": {}
      },
      "source": [
        "def find_immediate_parents(G, node):\n",
        "    parents = []\n",
        "    for i in G:\n",
        "        for j in G[i]:\n",
        "            if j == node:\n",
        "                parents.append(i)\n",
        "    return parents"
      ],
      "execution_count": 0,
      "outputs": []
    },
    {
      "cell_type": "code",
      "metadata": {
        "id": "7Opn5CO-US_T",
        "colab_type": "code",
        "outputId": "1c464a52-3330-4de9-dde2-4cbae28c909d",
        "colab": {
          "base_uri": "https://localhost:8080/",
          "height": 221
        }
      },
      "source": [
        "def pruneNode(node, evidence, graph, outcomeSpace, prob_tables):\n",
        "    if len(graph[node]) == 0:\n",
        "        print(\"leaf node\")\n",
        "    else:\n",
        "        newOutcomeSpace = outcomeSpace\n",
        "        for el in evidence:\n",
        "            newOutcomeSpace[el] = [evidence[el]]\n",
        "        print(newOutcomeSpace)\n",
        "        var_outcomes = outcomeSpace[node]\n",
        "        parents = find_immediate_parents(graph, node)\n",
        "        parent_outcomes = [newOutcomeSpace[var] for var in (parents)]\n",
        "        all_parent_combinations = product(*parent_outcomes)\n",
        "\n",
        "        cpt_node = prob_tables[node]\n",
        "        print(cpt_node)\n",
        "        print(cpt_node['table'].keys())\n",
        "        inputs_dict = {}\n",
        "        inputs_arr = []\n",
        "        for i, parent_combination in enumerate(all_parent_combinations):\n",
        "            for var_outcome in var_outcomes:\n",
        "                print(tuple(list(parent_combination)+[var_outcome]))\n",
        "                inputs_arr.append(tuple(list(parent_combination)+[var_outcome]))\n",
        "\n",
        "        cpt_values = list(cpt_node['table'].values())\n",
        "        # print(cpt_values)\n",
        "\n",
        "        prob_table = odict()\n",
        "        i = 0\n",
        "        for key in cpt_node['table'].keys():\n",
        "            if key in inputs_arr:\n",
        "                prob_table[key] = cpt_values[i]\n",
        "            i+=1\n",
        "        # print(prob_table)\n",
        "\n",
        "        newGraph = graph.copy()\n",
        "        newGraph[node] = []\n",
        "        \n",
        "        return newGraph, {'dom': tuple(list(parents)+[node]), 'table': prob_table}\n",
        "\n",
        "            \n",
        "# pruneNode(\"LVFAILURE\", 0, graph, outcomeSpace, prob_tables)\n",
        "evidence = {\n",
        "    \"HISTORY\": 1\n",
        "}\n",
        "new_graph, new_table = pruneNode(\"LVFAILURE\", evidence, graph, outcomeSpace, prob_tables)\n",
        "new_table"
      ],
      "execution_count": 32,
      "outputs": [
        {
          "output_type": "stream",
          "text": [
            "{'HISTORY': [1], 'LVFAILURE': [0, 1], 'DEAD': [0, 1], 'ALIVE': [0, 1]}\n",
            "{'dom': ('HISTORY', 'DEAD', 'LVFAILURE'), 'table': OrderedDict([((0, 0, 0), '0.4'), ((0, 0, 1), '0.01'), ((0, 1, 0), '0.1'), ((0, 1, 1), '0.96'), ((1, 0, 0), '0.3'), ((1, 0, 1), '0.01'), ((1, 1, 0), '0.2'), ((1, 1, 1), '0.02')])}\n",
            "odict_keys([(0, 0, 0), (0, 0, 1), (0, 1, 0), (0, 1, 1), (1, 0, 0), (1, 0, 1), (1, 1, 0), (1, 1, 1)])\n",
            "(1, 0, 0)\n",
            "(1, 0, 1)\n",
            "(1, 1, 0)\n",
            "(1, 1, 1)\n"
          ],
          "name": "stdout"
        },
        {
          "output_type": "execute_result",
          "data": {
            "text/plain": [
              "{'dom': ('HISTORY', 'DEAD', 'LVFAILURE'),\n",
              " 'table': OrderedDict([((1, 0, 0), '0.3'),\n",
              "              ((1, 0, 1), '0.01'),\n",
              "              ((1, 1, 0), '0.2'),\n",
              "              ((1, 1, 1), '0.02')])}"
            ]
          },
          "metadata": {
            "tags": []
          },
          "execution_count": 32
        }
      ]
    },
    {
      "cell_type": "code",
      "metadata": {
        "id": "RrDEESveaHQf",
        "colab_type": "code",
        "colab": {}
      },
      "source": [
        "new_graph"
      ],
      "execution_count": 0,
      "outputs": []
    },
    {
      "cell_type": "code",
      "metadata": {
        "id": "UIN1RZsMijU2",
        "colab_type": "code",
        "colab": {
          "base_uri": "https://localhost:8080/",
          "height": 85
        },
        "outputId": "a22eee2f-3a06-40f4-f2ad-e9ec63a9752c"
      },
      "source": [
        "graph"
      ],
      "execution_count": 33,
      "outputs": [
        {
          "output_type": "execute_result",
          "data": {
            "text/plain": [
              "{'ALIVE': [],\n",
              " 'DEAD': ['LVFAILURE'],\n",
              " 'HISTORY': ['LVFAILURE'],\n",
              " 'LVFAILURE': ['ALIVE']}"
            ]
          },
          "metadata": {
            "tags": []
          },
          "execution_count": 33
        }
      ]
    },
    {
      "cell_type": "code",
      "metadata": {
        "id": "P88w48a6hPE9",
        "colab_type": "code",
        "colab": {
          "base_uri": "https://localhost:8080/",
          "height": 153
        },
        "outputId": "0a31f62f-f0ad-4dc7-f89d-297fdb065796"
      },
      "source": [
        "# Produce undirected graph\n",
        "H = graph.copy()\n",
        "for node in H:\n",
        "    for child in H[node]:\n",
        "        print(child,H[child])\n",
        "        if node not in H[child]:\n",
        "            H[child].append(node)\n",
        "print(H)\n",
        "\n",
        "for i in range(len(graph)):\n",
        "    "
      ],
      "execution_count": 35,
      "outputs": [
        {
          "output_type": "stream",
          "text": [
            "LVFAILURE ['ALIVE', 'HISTORY', 'DEAD']\n",
            "ALIVE ['LVFAILURE']\n",
            "HISTORY ['LVFAILURE']\n",
            "DEAD ['LVFAILURE']\n",
            "LVFAILURE ['ALIVE', 'HISTORY', 'DEAD']\n",
            "LVFAILURE ['ALIVE', 'HISTORY', 'DEAD']\n",
            "{'HISTORY': ['LVFAILURE'], 'LVFAILURE': ['ALIVE', 'HISTORY', 'DEAD'], 'DEAD': ['LVFAILURE'], 'ALIVE': ['LVFAILURE']}\n",
            "4\n"
          ],
          "name": "stdout"
        }
      ]
    }
  ]
}